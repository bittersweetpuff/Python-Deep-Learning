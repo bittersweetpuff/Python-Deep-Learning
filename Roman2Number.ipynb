{
 "cells": [
  {
   "cell_type": "markdown",
   "metadata": {},
   "source": [
    "# Laboratorium 5: Rekurencyjne Sieci Neuronowe (RNN)\n",
    "## Część 2: roman2number"
   ]
  },
  {
   "cell_type": "code",
   "execution_count": 1,
   "metadata": {},
   "outputs": [],
   "source": [
    "from tensorflow.keras.layers import Flatten\n",
    "from tensorflow.keras.layers import MaxPooling2D\n",
    "from tensorflow.keras.layers import Dense\n",
    "from tensorflow.keras.models import Sequential\n",
    "from tensorflow.keras.layers import RNN, LSTM, RepeatVector, Dropout\n",
    "import numpy as np\n",
    "from roman_numerals import convert"
   ]
  },
  {
   "cell_type": "markdown",
   "metadata": {},
   "source": [
    "### Tworznenie modelu"
   ]
  },
  {
   "cell_type": "code",
   "execution_count": 2,
   "metadata": {},
   "outputs": [
    {
     "name": "stdout",
     "output_type": "stream",
     "text": [
      "Model: \"sequential\"\n",
      "_________________________________________________________________\n",
      "Layer (type)                 Output Shape              Param #   \n",
      "=================================================================\n",
      "lstm (LSTM)                  (None, None, 128)         66560     \n",
      "_________________________________________________________________\n",
      "lstm_1 (LSTM)                (None, 128)               131584    \n",
      "_________________________________________________________________\n",
      "dense (Dense)                (None, 1)                 129       \n",
      "=================================================================\n",
      "Total params: 198,273\n",
      "Trainable params: 198,273\n",
      "Non-trainable params: 0\n",
      "_________________________________________________________________\n"
     ]
    }
   ],
   "source": [
    "model = Sequential()\n",
    "model.add(LSTM(128,input_shape=(None,1),return_sequences=True)) # sequences of singlen numbers\n",
    "model.add(LSTM(128))\n",
    "model.add(Dense(1))\n",
    "\n",
    "model.compile(loss='mean_squared_error', optimizer=\"adam\",metrics=['mae','mse'])\n",
    "num_epochs = 0\n",
    "model.summary()"
   ]
  },
  {
   "cell_type": "markdown",
   "metadata": {},
   "source": [
    "### Przygotowanie danych"
   ]
  },
  {
   "cell_type": "code",
   "execution_count": 3,
   "metadata": {},
   "outputs": [
    {
     "name": "stdout",
     "output_type": "stream",
     "text": [
      "Max len of text 9\n",
      "vocabulary (used letters) [' ', 'C', 'I', 'L', 'V', 'X']\n",
      "unique characters 6\n"
     ]
    }
   ],
   "source": [
    "DATASET_SIZE=200\n",
    "\n",
    "samples = []\n",
    "labels = []\n",
    "all_words = ' ' # Puste pole dla liczb krótszych w zapisie\n",
    "max_len = 0\n",
    "for i in range(DATASET_SIZE):\n",
    "    labels.append(i)\n",
    "    words = convert(i)\n",
    "    samples.append(words)\n",
    "    all_words += words\n",
    "    if len(words)>max_len: \n",
    "        max_len = len(words)\n",
    "  \n",
    "print('Max len of text',max_len)\n",
    "vocab = sorted(set(all_words))\n",
    "vocab_size = len(vocab)\n",
    "print('vocabulary (used letters)',vocab)\n",
    "print ('unique characters',vocab_size)"
   ]
  },
  {
   "cell_type": "markdown",
   "metadata": {},
   "source": [
    "### Metody pomocnicze"
   ]
  },
  {
   "cell_type": "code",
   "execution_count": 4,
   "metadata": {},
   "outputs": [],
   "source": [
    "# helper method, converts sequence of numbers to text\n",
    "def to_text(sample):\n",
    "    return ''.join([idx2char[int(x)] for x in sample])\n",
    "# helper method, converts text to sequence of numbers\n",
    "def to_number(words):\n",
    "    return np.array([char2idx[char] for char in words])"
   ]
  },
  {
   "cell_type": "markdown",
   "metadata": {},
   "source": [
    "### Mapowanie"
   ]
  },
  {
   "cell_type": "code",
   "execution_count": 5,
   "metadata": {},
   "outputs": [
    {
     "name": "stdout",
     "output_type": "stream",
     "text": [
      "char2idx:\n",
      " {' ': 0, 'C': 1, 'I': 2, 'L': 3, 'V': 4, 'X': 5}\n",
      "idx2char\n",
      " [' ' 'C' 'I' 'L' 'V' 'X']\n"
     ]
    }
   ],
   "source": [
    "char2idx = {char:index for index, char in enumerate(vocab)}\n",
    "print('char2idx:\\n',char2idx)\n",
    "idx2char = np.array(vocab)\n",
    "print('idx2char\\n',idx2char)"
   ]
  },
  {
   "cell_type": "markdown",
   "metadata": {},
   "source": [
    "### Konwersja cyfr rzymskich na liczby"
   ]
  },
  {
   "cell_type": "code",
   "execution_count": 6,
   "metadata": {},
   "outputs": [
    {
     "name": "stdout",
     "output_type": "stream",
     "text": [
      "CXXIII  ->becomes->  [1 5 5 2 2 2]\n"
     ]
    }
   ],
   "source": [
    "samples_int = []\n",
    "for s in samples:\n",
    "    v = np.array([char2idx[char] for char in s])\n",
    "    samples_int.append(v) # different sizes!\n",
    "print(samples[123],' ->becomes-> ',samples_int[123])"
   ]
  },
  {
   "cell_type": "markdown",
   "metadata": {},
   "source": [
    "### Tworzenie Numpy Array z list (Podobnie do przykładu)"
   ]
  },
  {
   "cell_type": "code",
   "execution_count": 7,
   "metadata": {},
   "outputs": [
    {
     "name": "stdout",
     "output_type": "stream",
     "text": [
      "SAMPLES\n",
      "\n",
      " [[0. 0. 0. ... 0. 0. 0.]\n",
      " [2. 0. 0. ... 0. 0. 0.]\n",
      " [2. 2. 0. ... 0. 0. 0.]\n",
      " ...\n",
      " [1. 5. 1. ... 0. 0. 0.]\n",
      " [1. 5. 1. ... 2. 0. 0.]\n",
      " [1. 5. 1. ... 0. 0. 0.]]\n",
      "(200, 9)\n"
     ]
    }
   ],
   "source": [
    "samples = np.zeros((DATASET_SIZE,max_len))\n",
    "for i in range(len(samples_int)):\n",
    "    for j in range(len(samples_int[i])):\n",
    "        samples[i,j] = np.array(samples_int[i][j])\n",
    "print('SAMPLES\\n\\n',samples)\n",
    "print(samples.shape)"
   ]
  },
  {
   "cell_type": "code",
   "execution_count": 8,
   "metadata": {},
   "outputs": [
    {
     "name": "stdout",
     "output_type": "stream",
     "text": [
      "Sample (for 123):\n",
      " [[1.]\n",
      " [5.]\n",
      " [5.]\n",
      " [2.]\n",
      " [2.]\n",
      " [2.]\n",
      " [0.]\n",
      " [0.]\n",
      " [0.]]\n",
      "Sample decoded CXXIII   \n",
      "Label (output): 123.0\n",
      "samples shape (200, 9, 1)\n",
      "labels shape (200,)\n"
     ]
    }
   ],
   "source": [
    "samples = np.expand_dims(samples,axis=2) #add the third dimension\n",
    "labels = np.array(labels,dtype=float)\n",
    "\n",
    "print(\"Sample (for 123):\\n\",samples[123])\n",
    "print(\"Sample decoded\",to_text(samples[123]))\n",
    "print(\"Label (output):\",labels[123])\n",
    "\n",
    "print('samples shape',samples.shape)\n",
    "print('labels shape',labels.shape)"
   ]
  },
  {
   "cell_type": "markdown",
   "metadata": {},
   "source": [
    "### Podział na zbiór testowy i treningowy"
   ]
  },
  {
   "cell_type": "code",
   "execution_count": 9,
   "metadata": {},
   "outputs": [
    {
     "name": "stdout",
     "output_type": "stream",
     "text": [
      "Training samples: 100  test samples 100\n"
     ]
    }
   ],
   "source": [
    "TRAINING_SIZE = .5\n",
    "from sklearn.model_selection import train_test_split\n",
    "(trainSamples, testSamples, trainLabels, testLabels) = train_test_split(samples, labels,train_size=TRAINING_SIZE, random_state=1)\n",
    "print('Training samples:',len(trainSamples),' test samples',len(testSamples))"
   ]
  },
  {
   "cell_type": "markdown",
   "metadata": {},
   "source": [
    "### Funkcja check modelimport random\n",
    "\n",
    "def check_model(verbose=0,how_many=5):\n",
    "    pred = model.predict(samples)\n",
    "    print('text => [predicted value] error=[error]')\n",
    "    error = []\n",
    "    for i in range(len(pred)):\n",
    "        res = samples[i]\n",
    "        error.append(abs(i-pred[i]))\n",
    "        if verbose==1:\n",
    "            train = ''\n",
    "            if i in trainLabels: train='[T]'\n",
    "            print(i,to_text(res),'=> {:.2f} error = {:.2f}'.format(pred[i,0],abs(i-pred[i,0])),train)\n",
    "    if verbose<1: # if not verbose just display 'how_many' random samples\n",
    "        for i in range(how_many):        \n",
    "            x = random.randrange(DATASET_SIZE)\n",
    "            res = samples[x]\n",
    "            print(to_text(res),'=>  {:.2f} error = {:.2f}'.format(pred[x,0],abs(x-pred[x,0])))      \n",
    "    print('Mean error =',np.mean(error))        \n",
    "    return np.mean(error)\n",
    "check_model(1)"
   ]
  },
  {
   "cell_type": "code",
   "execution_count": 10,
   "metadata": {},
   "outputs": [],
   "source": [
    "import random\n",
    "\n",
    "def check_model(verbose=0,how_many=5):\n",
    "    pred = model.predict(samples)\n",
    "    print('text => [predicted value] error=[error]')\n",
    "    error = []\n",
    "    for i in range(len(pred)):\n",
    "        res = samples[i]\n",
    "        error.append(abs(i-pred[i]))\n",
    "        if verbose==1:\n",
    "            train = ''\n",
    "            if i in trainLabels: train='[T]'\n",
    "            print(i,to_text(res),'=> {:.2f} error = {:.2f}'.format(pred[i,0],abs(i-pred[i,0])),train)\n",
    "    if verbose<1: # if not verbose just display 'how_many' random samples\n",
    "        for i in range(how_many):        \n",
    "            x = random.randrange(DATASET_SIZE)\n",
    "            res = samples[x]\n",
    "            print(to_text(res),'=>  {:.2f} error = {:.2f}'.format(pred[x,0],abs(x-pred[x,0])))      \n",
    "    print('Mean error =',np.mean(error))        \n",
    "    return np.mean(error)"
   ]
  },
  {
   "cell_type": "markdown",
   "metadata": {},
   "source": [
    "### Trenowanie sieci"
   ]
  },
  {
   "cell_type": "code",
   "execution_count": 11,
   "metadata": {},
   "outputs": [
    {
     "name": "stdout",
     "output_type": "stream",
     "text": [
      "Training with 100 samples 10 epochs and batch_size= 25\n",
      "\n",
      "0.0/20 Epochs: 10 - loss=8867.454, loss improvement=3279.935\n",
      "text => [predicted value] error=[error]\n",
      "XIX       =>  19.94 error = 0.94\n",
      "XII       =>  19.94 error = 7.94\n",
      "CLXXXVI   =>  19.94 error = 166.06\n",
      "CXXII     =>  19.94 error = 102.06\n",
      "CXX       =>  19.94 error = 100.06\n",
      "Mean error = 81.649704\n",
      "\n",
      "1.0/20 Epochs: 210 - loss=3124.075, loss improvement=29.884\n",
      "text => [predicted value] error=[error]\n",
      "LV        =>  85.75 error = 30.75\n",
      "LXXXVIII  =>  85.75 error = 2.25\n",
      "C         =>  85.71 error = 14.29\n",
      "LXXVIII   =>  85.75 error = 7.75\n",
      "XXVII     =>  85.75 error = 58.75\n",
      "Mean error = 50.548355\n",
      "\n",
      "2.0/20 Epochs: 410 - loss=3006.794, loss improvement= 0.117\n",
      "text => [predicted value] error=[error]\n",
      "CXXIII    =>  96.17 error = 26.83\n",
      "CXV       =>  96.17 error = 18.83\n",
      "LIX       =>  96.17 error = 37.17\n",
      "CXV       =>  96.17 error = 18.83\n",
      "XXX       =>  96.17 error = 66.17\n",
      "Mean error = 49.574223\n",
      "\n",
      "3.0/20 Epochs: 610 - loss=3006.942, loss improvement=-0.167\n",
      "text => [predicted value] error=[error]\n",
      "CLXIII    =>  96.46 error = 66.54\n",
      "L         =>  96.46 error = 46.46\n",
      "CXXIV     =>  96.46 error = 27.54\n",
      "CLXX      =>  96.46 error = 73.54\n",
      "LII       =>  96.46 error = 44.46\n",
      "Mean error = 49.56423\n",
      "\n",
      "4.0/20 Epochs: 810 - loss=3006.705, loss improvement= 0.505\n",
      "text => [predicted value] error=[error]\n",
      "CLIV      =>  96.49 error = 57.51\n",
      "CXXXI     =>  96.49 error = 34.51\n",
      "CXXVII    =>  96.49 error = 30.51\n",
      "CLXXVII   =>  96.49 error = 80.51\n",
      "XLVII     =>  96.49 error = 49.49\n",
      "Mean error = 49.56299\n",
      "\n",
      "5.0/20 Epochs: 1010 - loss=3006.786, loss improvement= 0.002\n",
      "text => [predicted value] error=[error]\n",
      "XXXIII    =>  96.48 error = 63.48\n",
      "CLVIII    =>  96.48 error = 61.52\n",
      "XCVI      =>  96.48 error = 0.48\n",
      "CXIV      =>  96.48 error = 17.52\n",
      "CXCIII    =>  96.48 error = 96.52\n",
      "Mean error = 49.563198\n",
      "\n",
      "6.0/20 Epochs: 1210 - loss=639.637, loss improvement=39.255\n",
      "text => [predicted value] error=[error]\n",
      "LII       =>  36.16 error = 15.84\n",
      "LXV       =>  46.62 error = 18.38\n",
      "CIII      =>  131.18 error = 28.18\n",
      "XCV       =>  35.74 error = 59.26\n",
      "CLXXVI    =>  131.49 error = 44.51\n",
      "Mean error = 22.58522\n",
      "\n",
      "7.0/20 Epochs: 1410 - loss=260.631, loss improvement=-1.926\n",
      "text => [predicted value] error=[error]\n",
      "LXXI      =>  72.63 error = 1.63\n",
      "LXXXII    =>  80.83 error = 1.17\n",
      "VI        =>  4.99 error = 1.01\n",
      "CXII      =>  149.91 error = 37.91\n",
      "CII       =>  100.68 error = 1.32\n",
      "Mean error = 16.255615\n",
      "\n",
      "8.0/20 Epochs: 1610 - loss=219.025, loss improvement=-65.752\n",
      "text => [predicted value] error=[error]\n",
      "CLXI      =>  155.95 error = 5.05\n",
      "LXXXIX    =>  79.82 error = 9.18\n",
      "CLXXVII   =>  156.52 error = 20.48\n",
      "XX        =>  20.23 error = 0.23\n",
      "CLIII     =>  156.32 error = 3.32\n",
      "Mean error = 13.080133\n",
      "\n",
      "9.0/20 Epochs: 1810 - loss=42.204, loss improvement= 0.211\n",
      "text => [predicted value] error=[error]\n",
      "CLXIV     =>  170.01 error = 6.01\n",
      "IX        =>  15.73 error = 6.73\n",
      "CXXV      =>  127.79 error = 2.79\n",
      "LIII      =>  57.80 error = 4.80\n",
      "XX        =>  16.58 error = 3.42\n",
      "Mean error = 9.702478\n",
      "\n",
      "10.0/20 Epochs: 2010 - loss=14.850, loss improvement= 2.619\n",
      "text => [predicted value] error=[error]\n",
      "XXXIV     =>  30.73 error = 3.27\n",
      "CXLII     =>  139.72 error = 2.28\n",
      "XVI       =>  25.27 error = 9.27\n",
      "LXXX      =>  78.82 error = 1.18\n",
      "CXVIII    =>  129.08 error = 11.08\n",
      "Mean error = 7.8343306\n",
      "\n",
      "11.0/20 Epochs: 2210 - loss=86.755, loss improvement=18.611\n",
      "text => [predicted value] error=[error]\n",
      "LV        =>  53.96 error = 1.04\n",
      "CXXVI     =>  129.53 error = 3.53\n",
      "XCIX      =>  93.95 error = 5.05\n",
      "XXXV      =>  32.86 error = 2.14\n",
      "CXIV      =>  145.35 error = 31.35\n",
      "Mean error = 10.198717\n",
      "\n",
      "12.0/20 Epochs: 2410 - loss= 7.311, loss improvement= 1.155\n",
      "text => [predicted value] error=[error]\n",
      "CLXV      =>  166.93 error = 1.93\n",
      "CLXXXI    =>  181.97 error = 0.97\n",
      "CXIV      =>  126.62 error = 12.62\n",
      "CLXVI     =>  168.31 error = 2.31\n",
      "CLXXXVII  =>  183.00 error = 4.00\n",
      "Mean error = 6.05276\n",
      "\n",
      "13.0/20 Epochs: 2610 - loss= 8.025, loss improvement= 0.747\n",
      "text => [predicted value] error=[error]\n",
      "LXXII     =>  72.39 error = 0.39\n",
      "CXXV      =>  125.50 error = 0.50\n",
      "V         =>  83.57 error = 78.57\n",
      "CXXIX     =>  126.09 error = 2.91\n",
      "XVIII     =>  28.64 error = 10.64\n",
      "Mean error = 7.1978602\n",
      "\n",
      "14.0/20 Epochs: 2810 - loss= 2.171, loss improvement= 0.925\n",
      "text => [predicted value] error=[error]\n",
      "CXXIV     =>  125.21 error = 1.21\n",
      "XCV       =>  93.20 error = 1.80\n",
      "LXVIII    =>  71.01 error = 3.01\n",
      "L         =>  50.30 error = 0.30\n",
      "XCVII     =>  96.12 error = 0.88\n",
      "Mean error = 6.2412877\n",
      "\n",
      "15.0/20 Epochs: 3010 - loss= 5.429, loss improvement=-3.489\n",
      "text => [predicted value] error=[error]\n",
      "XV        =>  16.76 error = 1.76\n",
      "CXLIV     =>  148.83 error = 4.83\n",
      "LXXXVI    =>  86.86 error = 0.86\n",
      "CXLIII    =>  146.46 error = 3.46\n",
      "CXLIV     =>  148.83 error = 4.83\n",
      "Mean error = 6.9756985\n",
      "\n",
      "16.0/20 Epochs: 3210 - loss= 1.497, loss improvement= 0.406\n",
      "text => [predicted value] error=[error]\n",
      "XXII      =>  22.46 error = 0.46\n",
      "LXXXV     =>  83.48 error = 1.52\n",
      "CXXIX     =>  126.31 error = 2.69\n",
      "CX        =>  168.98 error = 58.98\n",
      "CXV       =>  113.08 error = 1.92\n",
      "Mean error = 6.144547\n",
      "\n",
      "17.0/20 Epochs: 3410 - loss= 2.654, loss improvement= 1.192\n",
      "text => [predicted value] error=[error]\n",
      "CXIII     =>  152.13 error = 39.13\n",
      "CLXXVII   =>  177.30 error = 0.30\n",
      "CXXXVIII  =>  136.07 error = 1.93\n",
      "XV        =>  16.09 error = 1.09\n",
      "XXXIV     =>  32.15 error = 1.85\n",
      "Mean error = 5.725572\n",
      "\n",
      "18.0/20 Epochs: 3610 - loss= 1.818, loss improvement= 0.076\n",
      "text => [predicted value] error=[error]\n",
      "LVIII     =>  60.92 error = 2.92\n",
      "XXXV      =>  33.42 error = 1.58\n",
      "CXLII     =>  143.45 error = 1.45\n",
      "XCVIII    =>  94.56 error = 3.44\n",
      "XLV       =>  46.21 error = 1.21\n",
      "Mean error = 5.9999285\n",
      "\n",
      "19.0/20 Epochs: 3810 - loss= 1.073, loss improvement= 0.255\n",
      "text => [predicted value] error=[error]\n",
      "CII       =>  101.19 error = 0.81\n",
      "CXLVII    =>  147.09 error = 0.09\n",
      "XLII      =>  45.88 error = 3.88\n",
      "LXXXVII   =>  86.40 error = 0.60\n",
      "XL        =>  15.39 error = 24.61\n",
      "Mean error = 5.746683\n",
      "Done\n"
     ]
    }
   ],
   "source": [
    "EPOCHS=10\n",
    "BATCH_SIZE = int(len(trainSamples)/4)\n",
    "print('Training with',len(trainSamples),'samples',EPOCHS,'epochs and batch_size=',BATCH_SIZE)\n",
    "for x in range(400):\n",
    "    H = model.fit(trainSamples, trainLabels, epochs=EPOCHS,verbose=0,batch_size=BATCH_SIZE)\n",
    "    num_epochs += EPOCHS\n",
    "    if x%20 == 0:\n",
    "        print(\"\\n{}/20 Epochs: {} - loss={:6.3f}, loss improvement={:6.3f}\".\n",
    "              format(x//20, num_epochs,H.history['loss'][-1], H.history['loss'][0]-H.history['loss'][-1]))\n",
    "        check_model()\n",
    "print(\"Done\")"
   ]
  },
  {
   "cell_type": "code",
   "execution_count": 12,
   "metadata": {},
   "outputs": [
    {
     "name": "stdout",
     "output_type": "stream",
     "text": [
      "text => [predicted value] error=[error]\n",
      "0           => 0.01 error = 0.01 [T]\n",
      "1 I         => 0.95 error = 0.05 [T]\n",
      "2 II        => 1.97 error = 0.03 [T]\n",
      "3 III       => 2.96 error = 0.04 [T]\n",
      "4 IV        => 30.14 error = 26.14 \n",
      "5 V         => 11.75 error = 6.75 \n",
      "6 VI        => 6.20 error = 0.20 [T]\n",
      "7 VII       => 6.48 error = 0.52 [T]\n",
      "8 VIII      => 8.02 error = 0.02 [T]\n",
      "9 IX        => 9.08 error = 0.08 [T]\n",
      "10 X         => 9.96 error = 0.04 [T]\n",
      "11 XI        => 34.38 error = 23.38 \n",
      "12 XII       => 79.41 error = 67.41 \n",
      "13 XIII      => 86.66 error = 73.66 \n",
      "14 XIV       => 89.39 error = 75.39 \n",
      "15 XV        => 15.90 error = 0.90 [T]\n",
      "16 XVI       => 24.88 error = 8.88 \n",
      "17 XVII      => 26.48 error = 9.48 \n",
      "18 XVIII     => 26.31 error = 8.31 \n",
      "19 XIX       => 84.66 error = 65.66 \n",
      "20 XX        => 18.40 error = 1.60 [T]\n",
      "21 XXI       => 20.67 error = 0.33 [T]\n",
      "22 XXII      => 21.75 error = 0.25 [T]\n",
      "23 XXIII     => 22.78 error = 0.22 [T]\n",
      "24 XXIV      => 23.85 error = 0.15 [T]\n",
      "25 XXV       => 24.93 error = 0.07 [T]\n",
      "26 XXVI      => 26.47 error = 0.47 [T]\n",
      "27 XXVII     => 27.35 error = 0.35 \n",
      "28 XXVIII    => 28.72 error = 0.72 \n",
      "29 XXIX      => 25.57 error = 3.43 \n",
      "30 XXX       => 28.80 error = 1.20 [T]\n",
      "31 XXXI      => 30.31 error = 0.69 \n",
      "32 XXXII     => 30.98 error = 1.02 [T]\n",
      "33 XXXIII    => 32.51 error = 0.49 \n",
      "34 XXXIV     => 32.30 error = 1.70 \n",
      "35 XXXV      => 34.10 error = 0.90 \n",
      "36 XXXVI     => 35.07 error = 0.93 \n",
      "37 XXXVII    => 37.17 error = 0.17 [T]\n",
      "38 XXXVIII   => 39.66 error = 1.66 \n",
      "39 XXXIX     => 33.10 error = 5.90 \n",
      "40 XL        => 14.44 error = 25.56 \n",
      "41 XLI       => 39.77 error = 1.23 [T]\n",
      "42 XLII      => 44.17 error = 2.17 \n",
      "43 XLIII     => 42.29 error = 0.71 [T]\n",
      "44 XLIV      => 47.07 error = 3.07 \n",
      "45 XLV       => 47.38 error = 2.38 \n",
      "46 XLVI      => 45.58 error = 0.42 [T]\n",
      "47 XLVII     => 42.76 error = 4.24 \n",
      "48 XLVIII    => 39.80 error = 8.20 \n",
      "49 XLIX      => 48.04 error = 0.96 [T]\n",
      "50 L         => 49.92 error = 0.08 [T]\n",
      "51 LI        => 31.62 error = 19.38 \n",
      "52 LII       => 52.14 error = 0.14 [T]\n",
      "53 LIII      => 53.99 error = 0.99 \n",
      "54 LIV       => 13.81 error = 40.19 \n",
      "55 LV        => 55.18 error = 0.18 [T]\n",
      "56 LVI       => 60.16 error = 4.16 \n",
      "57 LVII      => 57.53 error = 0.53 [T]\n",
      "58 LVIII     => 59.89 error = 1.89 \n",
      "59 LIX       => 24.96 error = 34.04 \n",
      "60 LX        => 60.11 error = 0.11 [T]\n",
      "61 LXI       => 61.36 error = 0.36 [T]\n",
      "62 LXII      => 61.89 error = 0.11 [T]\n",
      "63 LXIII     => 62.99 error = 0.01 [T]\n",
      "64 LXIV      => 63.03 error = 0.97 [T]\n",
      "65 LXV       => 65.89 error = 0.89 [T]\n",
      "66 LXVI      => 66.92 error = 0.92 \n",
      "67 LXVII     => 67.84 error = 0.84 \n",
      "68 LXVIII    => 68.66 error = 0.66 [T]\n",
      "69 LXIX      => 64.13 error = 4.87 \n",
      "70 LXX       => 68.63 error = 1.37 [T]\n",
      "71 LXXI      => 70.45 error = 0.55 [T]\n",
      "72 LXXII     => 72.17 error = 0.17 [T]\n",
      "73 LXXIII    => 73.37 error = 0.37 \n",
      "74 LXXIV     => 74.65 error = 0.65 [T]\n",
      "75 LXXV      => 75.03 error = 0.03 [T]\n",
      "76 LXXVI     => 77.29 error = 1.29 [T]\n",
      "77 LXXVII    => 78.70 error = 1.70 [T]\n",
      "78 LXXVIII   => 80.71 error = 2.71 \n",
      "79 LXXIX     => 76.31 error = 2.69 [T]\n",
      "80 LXXX      => 78.68 error = 1.32 [T]\n",
      "81 LXXXI     => 80.86 error = 0.14 \n",
      "82 LXXXII    => 82.27 error = 0.27 \n",
      "83 LXXXIII   => 84.16 error = 1.16 [T]\n",
      "84 LXXXIV    => 83.68 error = 0.32 \n",
      "85 LXXXV     => 83.53 error = 1.47 [T]\n",
      "86 LXXXVI    => 84.90 error = 1.10 [T]\n",
      "87 LXXXVII   => 86.75 error = 0.25 [T]\n",
      "88 LXXXVIII  => 88.48 error = 0.48 [T]\n",
      "89 LXXXIX    => 84.38 error = 4.62 \n",
      "90 XC        => 85.93 error = 4.07 \n",
      "91 XCI       => 90.60 error = 0.40 [T]\n",
      "92 XCII      => 92.84 error = 0.84 [T]\n",
      "93 XCIII     => 94.79 error = 1.79 \n",
      "94 XCIV      => 94.68 error = 0.68 \n",
      "95 XCV       => 93.96 error = 1.04 \n",
      "96 XCVI      => 95.96 error = 0.04 [T]\n",
      "97 XCVII     => 98.01 error = 1.01 \n",
      "98 XCVIII    => 97.81 error = 0.19 \n",
      "99 XCIX      => 94.74 error = 4.26 \n",
      "100 C         => 100.03 error = 0.03 [T]\n",
      "101 CI        => 101.08 error = 0.08 [T]\n",
      "102 CII       => 101.24 error = 0.76 \n",
      "103 CIII      => 101.57 error = 1.43 \n",
      "104 CIV       => 104.30 error = 0.30 [T]\n",
      "105 CV        => 156.58 error = 51.58 \n",
      "106 CVI       => 160.70 error = 54.70 \n",
      "107 CVII      => 162.17 error = 55.17 \n",
      "108 CVIII     => 162.40 error = 54.40 \n",
      "109 CIX       => 109.40 error = 0.40 [T]\n",
      "110 CX        => 149.54 error = 39.54 \n",
      "111 CXI       => 110.48 error = 0.52 [T]\n",
      "112 CXII      => 112.48 error = 0.48 [T]\n",
      "113 CXIII     => 144.11 error = 31.11 \n",
      "114 CXIV      => 156.00 error = 42.00 \n",
      "115 CXV       => 115.61 error = 0.61 [T]\n",
      "116 CXVI      => 124.68 error = 8.68 \n",
      "117 CXVII     => 128.32 error = 11.32 \n",
      "118 CXVIII    => 129.42 error = 11.42 \n",
      "119 CXIX      => 156.25 error = 37.25 \n",
      "120 CXX       => 113.52 error = 6.48 \n",
      "121 CXXI      => 120.37 error = 0.63 [T]\n",
      "122 CXXII     => 121.77 error = 0.23 \n",
      "123 CXXIII    => 122.87 error = 0.13 \n",
      "124 CXXIV     => 125.04 error = 1.04 \n",
      "125 CXXV      => 125.99 error = 0.99 [T]\n",
      "126 CXXVI     => 127.61 error = 1.61 [T]\n",
      "127 CXXVII    => 128.83 error = 1.83 \n",
      "128 CXXVIII   => 128.92 error = 0.92 [T]\n",
      "129 CXXIX     => 126.85 error = 2.15 [T]\n",
      "130 CXXX      => 128.68 error = 1.32 [T]\n",
      "131 CXXXI     => 130.85 error = 0.15 [T]\n",
      "132 CXXXII    => 132.34 error = 0.34 \n",
      "133 CXXXIII   => 132.50 error = 0.50 [T]\n",
      "134 CXXXIV    => 135.33 error = 1.33 [T]\n",
      "135 CXXXV     => 134.95 error = 0.05 [T]\n",
      "136 CXXXVI    => 137.26 error = 1.26 \n",
      "137 CXXXVII   => 137.47 error = 0.47 [T]\n",
      "138 CXXXVIII  => 135.38 error = 2.62 \n",
      "139 CXXXIX    => 137.31 error = 1.69 [T]\n",
      "140 CXL       => 139.91 error = 0.09 [T]\n",
      "141 CXLI      => 140.48 error = 0.52 [T]\n",
      "142 CXLII     => 142.87 error = 0.87 [T]\n",
      "143 CXLIII    => 143.18 error = 0.18 [T]\n",
      "144 CXLIV     => 145.55 error = 1.55 [T]\n",
      "145 CXLV      => 144.06 error = 0.94 [T]\n",
      "146 CXLVI     => 146.17 error = 0.17 [T]\n",
      "147 CXLVII    => 147.00 error = 0.00 [T]\n",
      "148 CXLVIII   => 147.25 error = 0.75 \n",
      "149 CXLIX     => 147.29 error = 1.71 [T]\n",
      "150 CL        => 150.25 error = 0.25 [T]\n",
      "151 CLI       => 152.05 error = 1.05 [T]\n",
      "152 CLII      => 151.62 error = 0.38 [T]\n",
      "153 CLIII     => 151.04 error = 1.96 \n",
      "154 CLIV      => 151.45 error = 2.55 \n",
      "155 CLV       => 155.24 error = 0.24 [T]\n",
      "156 CLVI      => 156.84 error = 0.84 [T]\n",
      "157 CLVII     => 157.16 error = 0.16 [T]\n",
      "158 CLVIII    => 157.84 error = 0.16 \n",
      "159 CLIX      => 151.60 error = 7.40 \n",
      "160 CLX       => 159.95 error = 0.05 [T]\n",
      "161 CLXI      => 162.70 error = 1.70 \n",
      "162 CLXII     => 163.13 error = 1.13 \n",
      "163 CLXIII    => 163.76 error = 0.76 [T]\n",
      "164 CLXIV     => 165.95 error = 1.95 [T]\n",
      "165 CLXV      => 168.27 error = 3.27 \n",
      "166 CLXVI     => 168.45 error = 2.45 \n",
      "167 CLXVII    => 168.51 error = 1.51 [T]\n",
      "168 CLXVIII   => 168.54 error = 0.54 \n",
      "169 CLXIX     => 168.19 error = 0.81 [T]\n",
      "170 CLXX      => 169.59 error = 0.41 [T]\n",
      "171 CLXXI     => 171.62 error = 0.62 \n",
      "172 CLXXII    => 172.25 error = 0.25 \n",
      "173 CLXXIII   => 172.58 error = 0.42 \n",
      "174 CLXXIV    => 173.95 error = 0.05 \n",
      "175 CLXXV     => 177.10 error = 2.10 [T]\n",
      "176 CLXXVI    => 178.60 error = 2.60 \n",
      "177 CLXXVII   => 179.05 error = 2.05 \n",
      "178 CLXXVIII  => 179.31 error = 1.31 [T]\n",
      "179 CLXXIX    => 175.14 error = 3.86 \n",
      "180 CLXXX     => 180.32 error = 0.32 [T]\n",
      "181 CLXXXI    => 182.04 error = 1.04 \n",
      "182 CLXXXII   => 183.00 error = 1.00 [T]\n",
      "183 CLXXXIII  => 183.93 error = 0.93 \n",
      "184 CLXXXIV   => 185.30 error = 1.30 \n",
      "185 CLXXXV    => 185.74 error = 0.74 \n",
      "186 CLXXXVI   => 187.64 error = 1.64 \n",
      "187 CLXXXVII  => 188.28 error = 1.28 \n",
      "188 CLXXXVIII => 188.72 error = 0.72 [T]\n",
      "189 CLXXXIX   => 186.54 error = 2.46 \n",
      "190 CXC       => 190.39 error = 0.39 [T]\n",
      "191 CXCI      => 192.05 error = 1.05 \n",
      "192 CXCII     => 192.35 error = 0.35 [T]\n",
      "193 CXCIII    => 191.55 error = 1.45 \n",
      "194 CXCIV     => 192.21 error = 1.79 \n",
      "195 CXCV      => 192.80 error = 2.20 \n",
      "196 CXCVI     => 194.79 error = 1.21 [T]\n",
      "197 CXCVII    => 194.85 error = 2.15 \n",
      "198 CXCVIII   => 194.78 error = 3.22 \n",
      "199 CXCIX     => 192.04 error = 6.96 \n",
      "Mean error = 5.4787\n"
     ]
    },
    {
     "data": {
      "text/plain": [
       "5.4787"
      ]
     },
     "execution_count": 12,
     "metadata": {},
     "output_type": "execute_result"
    }
   ],
   "source": [
    "check_model(1)"
   ]
  },
  {
   "cell_type": "markdown",
   "metadata": {},
   "source": [
    "### Wnioski\n",
    "Klasyfikacja jest stosunkowo dokładna. Największe problemy pojawiają się dla małych liczb spoza zbioru treningowego, jednak sieć radzi sobie dobrze z większymi liczbami z zbioru testowego. Zjawisko przeuczenia nie jest aż tak bardzo widoczne. "
   ]
  },
  {
   "cell_type": "code",
   "execution_count": null,
   "metadata": {},
   "outputs": [],
   "source": []
  }
 ],
 "metadata": {
  "kernelspec": {
   "display_name": "Python 3",
   "language": "python",
   "name": "python3"
  },
  "language_info": {
   "codemirror_mode": {
    "name": "ipython",
    "version": 3
   },
   "file_extension": ".py",
   "mimetype": "text/x-python",
   "name": "python",
   "nbconvert_exporter": "python",
   "pygments_lexer": "ipython3",
   "version": "3.8.10"
  }
 },
 "nbformat": 4,
 "nbformat_minor": 4
}
